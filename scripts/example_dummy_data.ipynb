{
 "cells": [
  {
   "cell_type": "markdown",
   "metadata": {},
   "source": [
    "# Example with the dummy data"
   ]
  },
  {
   "cell_type": "markdown",
   "metadata": {},
   "source": [
    "### Imports"
   ]
  },
  {
   "cell_type": "markdown",
   "metadata": {},
   "source": [
    "\n",
    "The first thing we need to do is import some essential stuff. Theses also have to be installed and are prerequisites."
   ]
  },
  {
   "cell_type": "code",
   "execution_count": 1,
   "metadata": {},
   "outputs": [],
   "source": [
    "import datetime\n",
    "import time as time_module\n",
    "import sys\n",
    "import os \n",
    "\n",
    "import pandas as pd\n",
    "import numpy as np\n",
    "import matplotlib.pyplot as plt\n",
    "import scipy.stats\n",
    "import theano\n",
    "import matplotlib\n",
    "import pymc3 as pm\n",
    "import theano.tensor as tt"
   ]
  },
  {
   "cell_type": "markdown",
   "metadata": {},
   "source": [
    "Now to the fun stuff, we import our module!"
   ]
  },
  {
   "cell_type": "code",
   "execution_count": 2,
   "metadata": {},
   "outputs": [],
   "source": [
    "try: \n",
    "    import covid19_inference as cov19\n",
    "except ModuleNotFoundError:\n",
    "    sys.path.append('..')\n",
    "    import covid19_inference as cov19\n",
    "%load_ext autoreload\n",
    "%autoreload 2"
   ]
  },
  {
   "cell_type": "markdown",
   "metadata": {},
   "source": [
    "## Create dummy data object"
   ]
  },
  {
   "cell_type": "markdown",
   "metadata": {},
   "source": [
    "### Random case"
   ]
  },
  {
   "cell_type": "code",
   "execution_count": 1,
   "metadata": {},
   "outputs": [
    {
     "ename": "NameError",
     "evalue": "name 'datetime' is not defined",
     "output_type": "error",
     "traceback": [
      "\u001b[0;31m---------------------------------------------------------------------------\u001b[0m",
      "\u001b[0;31mNameError\u001b[0m                                 Traceback (most recent call last)",
      "\u001b[0;32m<ipython-input-1-601cd64b94be>\u001b[0m in \u001b[0;36m<module>\u001b[0;34m\u001b[0m\n\u001b[1;32m      1\u001b[0m \u001b[0;31m#Create dates for data generation\u001b[0m\u001b[0;34m\u001b[0m\u001b[0;34m\u001b[0m\u001b[0;34m\u001b[0m\u001b[0m\n\u001b[0;32m----> 2\u001b[0;31m \u001b[0mdata_begin\u001b[0m \u001b[0;34m=\u001b[0m \u001b[0mdatetime\u001b[0m\u001b[0;34m.\u001b[0m\u001b[0mdatetime\u001b[0m\u001b[0;34m(\u001b[0m\u001b[0;36m2020\u001b[0m\u001b[0;34m,\u001b[0m\u001b[0;36m3\u001b[0m\u001b[0;34m,\u001b[0m\u001b[0;36m11\u001b[0m\u001b[0;34m)\u001b[0m\u001b[0;34m\u001b[0m\u001b[0;34m\u001b[0m\u001b[0m\n\u001b[0m\u001b[1;32m      3\u001b[0m \u001b[0mdata_end\u001b[0m \u001b[0;34m=\u001b[0m \u001b[0mdatetime\u001b[0m\u001b[0;34m.\u001b[0m\u001b[0mdatetime\u001b[0m\u001b[0;34m(\u001b[0m\u001b[0;36m2020\u001b[0m\u001b[0;34m,\u001b[0m\u001b[0;36m5\u001b[0m\u001b[0;34m,\u001b[0m\u001b[0;36m3\u001b[0m\u001b[0;34m)\u001b[0m\u001b[0;34m\u001b[0m\u001b[0;34m\u001b[0m\u001b[0m\n\u001b[1;32m      4\u001b[0m \u001b[0;34m\u001b[0m\u001b[0m\n\u001b[1;32m      5\u001b[0m \u001b[0;31m#We choose some two easy change points for the initial\u001b[0m\u001b[0;34m\u001b[0m\u001b[0;34m\u001b[0m\u001b[0;34m\u001b[0m\u001b[0m\n",
      "\u001b[0;31mNameError\u001b[0m: name 'datetime' is not defined"
     ]
    }
   ],
   "source": [
    "#Create dates for data generation\n",
    "data_begin = datetime.datetime(2020,3,11)\n",
    "data_end = datetime.datetime(2020,5,3)\n",
    "\n",
    "#We choose some two easy change points for the initial\n",
    "change_points = [[datetime.datetime(2020,3,10), 0.4],\n",
    "                 [datetime.datetime(2020,3,21), 0.2],\n",
    "                 [datetime.datetime(2020,3,31), 0.15]]\n",
    "\n",
    "# Create dummy data object\n",
    "dd = cov19.dummy_data.DummyData(data_begin,\n",
    "                                data_end,\n",
    "                                change_points=change_points,\n",
    "                                noise=True,\n",
    "                                seed=0,\n",
    "                                I_initial=10)"
   ]
  },
  {
   "cell_type": "markdown",
   "metadata": {},
   "source": [
    "### Initials equal to a real case (WIP)"
   ]
  },
  {
   "cell_type": "code",
   "execution_count": 10,
   "metadata": {},
   "outputs": [],
   "source": [
    "data_begin = datetime.datetime(2020, 2, 1)\n",
    "data_end = datetime.datetime(2020, 5, 4)\n",
    "\n",
    "prior_date_mild_dist_begin =  datetime.datetime(2020,3,9)\n",
    "prior_date_strong_dist_begin =  datetime.datetime(2020,3,16)\n",
    "prior_date_contact_ban_begin =  datetime.datetime(2020,3,31)\n",
    "\n",
    "initials = {\n",
    "    \"lambda_initial\" : 0.35,\n",
    "    \"change_points\" : [[prior_date_mild_dist_begin,0.25],\n",
    "                       [prior_date_strong_dist_begin,0.15]\n",
    "                      ],\n",
    "    \"I_initial\" : 32,\n",
    "    \"S_initial\" : 86e6,\n",
    "    \"weekend_factor\" : 0.3,\n",
    "    \"case_delay\" : 6,\n",
    "}"
   ]
  },
  {
   "cell_type": "code",
   "execution_count": 11,
   "metadata": {},
   "outputs": [],
   "source": [
    "dd = cov19.dummy_data.DummyData(data_begin,data_end,noise=False,**initials,seed=4)"
   ]
  },
  {
   "cell_type": "markdown",
   "metadata": {},
   "source": [
    "We can look at our initially generated values and tweak them by the attribute `dd.initials`. Our seed for the random number generation can be retrieved with `dd.seed`."
   ]
  },
  {
   "cell_type": "code",
   "execution_count": 12,
   "metadata": {},
   "outputs": [
    {
     "name": "stdout",
     "output_type": "stream",
     "text": [
      "S_initial: 86000000.0\n",
      "I_initial: 32\n",
      "R_initial: 0\n",
      "lambda_initial: 0.35\n",
      "change_points: [[datetime.datetime(2020, 3, 9, 0, 0), 0.25], [datetime.datetime(2020, 3, 16, 0, 0), 0.15]]\n",
      "noise_factor: 1e-05\n",
      "offset_sunday: 1\n",
      "weekend_factor: 0.3\n",
      "case_delay: 6\n",
      "Seed: 4\n"
     ]
    }
   ],
   "source": [
    "for key in dd.initials:\n",
    "    print(f\"{key}: {dd.initials[key]}\")\n",
    "print(f\"Seed: {dd.seed}\")"
   ]
  },
  {
   "cell_type": "markdown",
   "metadata": {},
   "source": [
    "If we are happy with the initial values we can generate our dummy data set."
   ]
  },
  {
   "cell_type": "code",
   "execution_count": 15,
   "metadata": {
    "scrolled": false
   },
   "outputs": [],
   "source": [
    "dd.initials[\"weekend_factor\"] = 0.2\n",
    "data = dd.generate()"
   ]
  },
  {
   "cell_type": "markdown",
   "metadata": {},
   "source": [
    "The generated data is also accesible by the attribute `dd.data` as pandas dataframe."
   ]
  },
  {
   "cell_type": "markdown",
   "metadata": {},
   "source": [
    "## Preliminary plot of the generated data "
   ]
  },
  {
   "cell_type": "code",
   "execution_count": 16,
   "metadata": {},
   "outputs": [
    {
     "data": {
      "image/png": "[encoded data removed]",
      "text/plain": [
       "<Figure size 720x432 with 2 Axes>"
      ]
     },
     "metadata": {
      "needs_background": "light"
     },
     "output_type": "display_data"
    }
   ],
   "source": [
    "#Create figure\n",
    "fig, ax = plt.subplots(2,1,figsize=(10,6))\n",
    "\n",
    "#Plot dummy data\n",
    "cov19.plot._timeseries(data.index, data[\"new_cases\"], ax[0],lw=0)\n",
    "cov19.plot._timeseries(data.index, data[\"lambda_t\"], ax[1],lw=0)\n",
    "\n",
    "#Set labels\n",
    "ax[0].set_ylabel(\"Daily new cases\")\n",
    "ax[1].set_ylabel(f\"$\\lambda$\")\n",
    "ax[0].set_title(\"Delayed cases\")\n",
    "#ax[1].set_title(\"NOT delayed lambda\")\n",
    "\n",
    "#Format x axis\n",
    "cov19.plot._format_date_xticks(ax[0])\n",
    "cov19.plot._format_date_xticks(ax[1])\n",
    "delta = datetime.timedelta(days=2)\n",
    "\n",
    "\n",
    "plt.tight_layout()"
   ]
  },
  {
   "cell_type": "markdown",
   "metadata": {},
   "source": [
    "### Create the model"
   ]
  },
  {
   "cell_type": "code",
   "execution_count": 17,
   "metadata": {},
   "outputs": [],
   "source": [
    "diff_data_sim = 16 # should be significantly larger than the expected delay, in \n",
    "                   # order to always fit the same number of data points.\n",
    "num_days_forecast = 10\n",
    "\n",
    "#Get priors for changepoints from dummy data\n",
    "change_points = []\n",
    "for cp in dd.initials[\"change_points\"]:\n",
    "    change_points.append(dict(pr_mean_date_transient = cp[0],\n",
    "         pr_sigma_date_transient = 6,\n",
    "         pr_median_lambda = cp[1],\n",
    "         pr_sigma_lambda = 2))"
   ]
  },
  {
   "cell_type": "code",
   "execution_count": 18,
   "metadata": {},
   "outputs": [
    {
     "name": "stderr",
     "output_type": "stream",
     "text": [
      "INFO     [covid19_inference.model_helper] pr_median_transient_len was set to default value 4\n",
      "INFO     [covid19_inference.model_helper] pr_sigma_transient_len was set to default value 0.5\n",
      "INFO     [covid19_inference.model_helper] pr_median_transient_len was set to default value 4\n",
      "INFO     [covid19_inference.model_helper] pr_sigma_transient_len was set to default value 0.5\n"
     ]
    }
   ],
   "source": [
    "params_model = dict(new_cases_obs = data[\"new_cases\"],\n",
    "                    data_begin = data.index[0],\n",
    "                    fcast_len = num_days_forecast,\n",
    "                    diff_data_sim = diff_data_sim,\n",
    "                    N_population = 83e6) \n",
    "\n",
    "# The model is specified in a context. Each function in this context has access to the model parameters set\n",
    "with cov19.Cov19Model(**params_model) as model:\n",
    "    # Create the an array of the time dependent infection rate lambda\n",
    "    lambda_t_log = cov19.lambda_t_with_sigmoids(pr_median_lambda_0 = 0.4,\n",
    "                                                change_points_list = change_points)\n",
    "    \n",
    "    # Use this array to run the SIR model\n",
    "    new_I_t = cov19.SIR(lambda_t_log, pr_median_mu=1/8)\n",
    "    \n",
    "    # Delay the cases by a lognormal reporting delay\n",
    "    new_cases_inferred_raw = cov19.delay_cases(new_I_t, pr_median_delay=10, \n",
    "                                               pr_median_scale_delay=0.3)\n",
    "    \n",
    "    # Modulate the inferred cases by a abs(sin(x)) function, to account for weekend effects\n",
    "    new_cases_inferred = cov19.week_modulation(new_cases_inferred_raw)\n",
    "    \n",
    "    # Define the likelihood, uses the new_cases_obs set as model parameter\n",
    "    cov19.student_t_likelihood(new_cases_inferred)\n"
   ]
  },
  {
   "cell_type": "markdown",
   "metadata": {},
   "source": [
    "### MCMC sampling"
   ]
  },
  {
   "cell_type": "code",
   "execution_count": 19,
   "metadata": {},
   "outputs": [
    {
     "name": "stderr",
     "output_type": "stream",
     "text": [
      "Auto-assigning NUTS sampler...\n",
      "INFO     [pymc3] Auto-assigning NUTS sampler...\n",
      "Initializing NUTS using advi+adapt_diag...\n",
      "INFO     [pymc3] Initializing NUTS using advi+adapt_diag...\n",
      "WARNING (theano.tensor.blas): We did not find a dynamic library in the library_dir of the library we use for blas. If you use ATLAS, make sure to compile it with dynamics library.\n",
      "WARNING  [theano.tensor.blas] We did not find a dynamic library in the library_dir of the library we use for blas. If you use ATLAS, make sure to compile it with dynamics library.\n",
      "Average Loss = 795.59:  13%|█▎        | 26399/200000 [01:10<07:43, 374.84it/s]\n",
      "Convergence achieved at 26400\n",
      "INFO     [pymc3.variational.inference] Convergence achieved at 26400\n",
      "Interrupted at 26,399 [13%]: Average Loss = 920.95\n",
      "INFO     [pymc3.variational.inference] Interrupted at 26,399 [13%]: Average Loss = 920.95\n",
      "Multiprocess sampling (4 chains in 4 jobs)\n",
      "INFO     [pymc3] Multiprocess sampling (4 chains in 4 jobs)\n",
      "NUTS: [sigma_obs, offset_modulation_rad, weekend_factor, delay_log, I_begin, mu, transient_len_2_log, transient_len_1_log, transient_day_2, transient_day_1, lambda_2_log, lambda_1_log, lambda_0_log]\n",
      "INFO     [pymc3] NUTS: [sigma_obs, offset_modulation_rad, weekend_factor, delay_log, I_begin, mu, transient_len_2_log, transient_len_1_log, transient_day_2, transient_day_1, lambda_2_log, lambda_1_log, lambda_0_log]\n",
      "Sampling 4 chains, 0 divergences: 100%|██████████| 2800/2800 [1:00:31<00:00,  1.30s/draws]\n",
      "The chain reached the maximum tree depth. Increase max_treedepth, increase target_accept or reparameterize.\n",
      "WARNING  [pymc3] The chain reached the maximum tree depth. Increase max_treedepth, increase target_accept or reparameterize.\n",
      "The chain reached the maximum tree depth. Increase max_treedepth, increase target_accept or reparameterize.\n",
      "WARNING  [pymc3] The chain reached the maximum tree depth. Increase max_treedepth, increase target_accept or reparameterize.\n",
      "The acceptance probability does not match the target. It is 0.9491850944680402, but should be close to 0.8. Try to increase the number of tuning steps.\n",
      "WARNING  [pymc3] The acceptance probability does not match the target. It is 0.9491850944680402, but should be close to 0.8. Try to increase the number of tuning steps.\n",
      "The chain reached the maximum tree depth. Increase max_treedepth, increase target_accept or reparameterize.\n",
      "WARNING  [pymc3] The chain reached the maximum tree depth. Increase max_treedepth, increase target_accept or reparameterize.\n",
      "The acceptance probability does not match the target. It is 0.9188667528338316, but should be close to 0.8. Try to increase the number of tuning steps.\n",
      "WARNING  [pymc3] The acceptance probability does not match the target. It is 0.9188667528338316, but should be close to 0.8. Try to increase the number of tuning steps.\n",
      "The chain reached the maximum tree depth. Increase max_treedepth, increase target_accept or reparameterize.\n",
      "WARNING  [pymc3] The chain reached the maximum tree depth. Increase max_treedepth, increase target_accept or reparameterize.\n",
      "The rhat statistic is larger than 1.4 for some parameters. The sampler did not converge.\n",
      "ERROR    [pymc3] The rhat statistic is larger than 1.4 for some parameters. The sampler did not converge.\n",
      "The estimated number of effective samples is smaller than 200 for some parameters.\n",
      "ERROR    [pymc3] The estimated number of effective samples is smaller than 200 for some parameters.\n"
     ]
    }
   ],
   "source": [
    "trace = pm.sample(model=model, tune=200, draws=500, init='advi+adapt_diag')"
   ]
  },
  {
   "cell_type": "markdown",
   "metadata": {},
   "source": [
    "### Plotting the trace"
   ]
  },
  {
   "cell_type": "code",
   "execution_count": 24,
   "metadata": {},
   "outputs": [
    {
     "data": {
      "text/plain": [
       "['lambda_0_log',\n",
       " 'lambda_1_log',\n",
       " 'lambda_2_log',\n",
       " 'lambda_3_log',\n",
       " 'transient_day_1',\n",
       " 'transient_day_2',\n",
       " 'transient_day_3',\n",
       " 'transient_len_1_log',\n",
       " 'transient_len_2_log',\n",
       " 'transient_len_3_log',\n",
       " 'mu_log__',\n",
       " 'I_begin_log__',\n",
       " 'delay_log',\n",
       " 'weekend_factor',\n",
       " 'offset_modulation_rad_circular__',\n",
       " 'sigma_obs_log__',\n",
       " 'lambda_0',\n",
       " 'lambda_1',\n",
       " 'lambda_2',\n",
       " 'lambda_3',\n",
       " 'transient_len_1',\n",
       " 'transient_len_2',\n",
       " 'transient_len_3',\n",
       " 'lambda_t',\n",
       " 'mu',\n",
       " 'I_begin',\n",
       " 'new_I_t',\n",
       " 'delay',\n",
       " 'new_cases_raw',\n",
       " 'offset_modulation_rad',\n",
       " 'offset_modulation',\n",
       " 'new_cases',\n",
       " 'sigma_obs']"
      ]
     },
     "execution_count": 24,
     "metadata": {},
     "output_type": "execute_result"
    }
   ],
   "source": [
    "trace.varnames"
   ]
  },
  {
   "cell_type": "markdown",
   "metadata": {},
   "source": [
    "Add the model and forecast to the already generated axes for the dummy data (see above)."
   ]
  },
  {
   "cell_type": "code",
   "execution_count": 23,
   "metadata": {},
   "outputs": [
    {
     "ename": "TypeError",
     "evalue": "'AxesSubplot' object is not subscriptable",
     "output_type": "error",
     "traceback": [
      "\u001b[0;31m---------------------------------------------------------------------------\u001b[0m",
      "\u001b[0;31mTypeError\u001b[0m                                 Traceback (most recent call last)",
      "\u001b[0;32m<ipython-input-23-eda10438ac17>\u001b[0m in \u001b[0;36m<module>\u001b[0;34m\u001b[0m\n\u001b[1;32m      2\u001b[0m \u001b[0my\u001b[0m \u001b[0;34m=\u001b[0m \u001b[0mtrace\u001b[0m\u001b[0;34m[\u001b[0m\u001b[0;34m\"new_cases\"\u001b[0m\u001b[0;34m]\u001b[0m\u001b[0;34m[\u001b[0m\u001b[0;34m:\u001b[0m\u001b[0;34m,\u001b[0m\u001b[0;34m:\u001b[0m\u001b[0;34m]\u001b[0m\u001b[0;34m\u001b[0m\u001b[0;34m\u001b[0m\u001b[0m\n\u001b[1;32m      3\u001b[0m \u001b[0mx\u001b[0m \u001b[0;34m=\u001b[0m \u001b[0mpd\u001b[0m\u001b[0;34m.\u001b[0m\u001b[0mdate_range\u001b[0m\u001b[0;34m(\u001b[0m\u001b[0mmodel\u001b[0m\u001b[0;34m.\u001b[0m\u001b[0mdata_begin\u001b[0m\u001b[0;34m,\u001b[0m \u001b[0mmodel\u001b[0m\u001b[0;34m.\u001b[0m\u001b[0mfcast_end\u001b[0m\u001b[0;34m)\u001b[0m\u001b[0;34m\u001b[0m\u001b[0;34m\u001b[0m\u001b[0m\n\u001b[0;32m----> 4\u001b[0;31m \u001b[0mcov19\u001b[0m\u001b[0;34m.\u001b[0m\u001b[0mplot\u001b[0m\u001b[0;34m.\u001b[0m\u001b[0m_timeseries\u001b[0m\u001b[0;34m(\u001b[0m\u001b[0mx\u001b[0m\u001b[0;34m,\u001b[0m\u001b[0my\u001b[0m\u001b[0;34m,\u001b[0m\u001b[0max\u001b[0m\u001b[0;34m[\u001b[0m\u001b[0;36m0\u001b[0m\u001b[0;34m]\u001b[0m\u001b[0;34m,\u001b[0m\u001b[0mwhat\u001b[0m\u001b[0;34m=\u001b[0m\u001b[0;34m\"model\"\u001b[0m\u001b[0;34m,\u001b[0m \u001b[0mdraw_ci_95\u001b[0m\u001b[0;34m=\u001b[0m\u001b[0;32mTrue\u001b[0m\u001b[0;34m)\u001b[0m\u001b[0;34m\u001b[0m\u001b[0;34m\u001b[0m\u001b[0m\n\u001b[0m\u001b[1;32m      5\u001b[0m \u001b[0;34m\u001b[0m\u001b[0m\n\u001b[1;32m      6\u001b[0m \u001b[0;34m\u001b[0m\u001b[0m\n",
      "\u001b[0;31mTypeError\u001b[0m: 'AxesSubplot' object is not subscriptable"
     ]
    }
   ],
   "source": [
    "# New cases\n",
    "y = trace[\"new_cases\"][:,:]\n",
    "x = pd.date_range(model.data_begin, model.fcast_end)\n",
    "cov19.plot._timeseries(x,y,ax[0],what=\"model\", draw_ci_95=True)\n",
    "\n",
    "\n",
    "# lambda t\n",
    "y = trace[\"lambda_t\"][:,:]\n",
    "x = pd.date_range(model.sim_begin, model.fcast_end)\n",
    "cov19.plot._timeseries(x,y,ax[1],what=\"model\", draw_ci_75=True)\n",
    "\n",
    "fig"
   ]
  },
  {
   "cell_type": "markdown",
   "metadata": {},
   "source": [
    "What is the lambda doing "
   ]
  },
  {
   "cell_type": "markdown",
   "metadata": {},
   "source": [
    "We can also compare our changepoints from the dummy data with the changepoints from the trace."
   ]
  },
  {
   "cell_type": "code",
   "execution_count": 21,
   "metadata": {},
   "outputs": [
    {
     "data": {
      "image/png": "[encoded data removed]",
      "text/plain": [
       "<Figure size 900x540 with 15 Axes>"
      ]
     },
     "metadata": {
      "needs_background": "light"
     },
     "output_type": "display_data"
    }
   ],
   "source": [
    "varnames = cov19.plotting.get_all_free_RVs_names(model)\n",
    "num_cols = 5\n",
    "num_rows = int(np.ceil(len(varnames)/num_cols))\n",
    "x_size = num_cols * 2.5\n",
    "y_size = num_rows * 2.5\n",
    "\n",
    "fig, axes = plt.subplots(num_rows, num_cols, figsize = (x_size, y_size),squeeze=False)\n",
    "i_ax = 0\n",
    "for i_row, axes_row in enumerate(axes):\n",
    "    for i_col, ax in enumerate(axes_row):\n",
    "        if i_ax >= len(varnames):\n",
    "            ax.set_visible(False)\n",
    "            continue \n",
    "        else:\n",
    "            cov19.plotting.plot_hist(model, trace, ax, varnames[i_ax], \n",
    "                                     colors=('tab:blue', 'tab:green'))\n",
    "        if not i_col == 0:\n",
    "            ax.set_ylabel('')\n",
    "        if i_col == 0 and i_row == 0:\n",
    "            ax.legend()\n",
    "        i_ax += 1\n",
    "fig.subplots_adjust(wspace=0.25, hspace=0.4)\n"
   ]
  },
  {
   "cell_type": "code",
   "execution_count": 22,
   "metadata": {},
   "outputs": [
    {
     "data": {
      "text/plain": [
       "6.1625434670136325"
      ]
     },
     "execution_count": 22,
     "metadata": {},
     "output_type": "execute_result"
    }
   ],
   "source": [
    "np.exp(trace[\"delay_log\"].mean())"
   ]
  },
  {
   "cell_type": "code",
   "execution_count": null,
   "metadata": {},
   "outputs": [],
   "source": [
    "np.exp(trace[\"lambdda_0_log\"].mean())"
   ]
  }
 ],
 "metadata": {
  "kernelspec": {
   "display_name": "Python 3",
   "language": "python",
   "name": "python3"
  },
  "language_info": {
   "codemirror_mode": {
    "name": "ipython",
    "version": 3
   },
   "file_extension": ".py",
   "mimetype": "text/x-python",
   "name": "python",
   "nbconvert_exporter": "python",
   "pygments_lexer": "ipython3",
   "version": "3.7.7"
  }
 },
 "nbformat": 4,
 "nbformat_minor": 4
}
