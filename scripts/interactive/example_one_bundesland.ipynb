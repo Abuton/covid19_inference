{
 "cells": [
  {
   "cell_type": "markdown",
   "metadata": {},
   "source": [
    "[![Open In Colab](https://colab.research.google.com/assets/colab-badge.svg)](https://colab.research.google.com/github/Priesemann-Group/covid19_inference/blob/model_cleanup/scripts/interactive/example_one_bundesland.ipynb)"
   ]
  },
  {
   "cell_type": "code",
   "execution_count": 1,
   "metadata": {},
   "outputs": [
    {
     "name": "stdout",
     "output_type": "stream",
     "text": [
      "Collecting git+https://github.com/Priesemann-Group/covid19_inference.git\r\n",
      "  Cloning https://github.com/Priesemann-Group/covid19_inference.git to /private/var/folders/l0/hxkbr6jx32d1b49pzb9fvsz00000gn/T/pip-req-build-nw5n1l3q\r\n",
      "  Running command git clone -q https://github.com/Priesemann-Group/covid19_inference.git /private/var/folders/l0/hxkbr6jx32d1b49pzb9fvsz00000gn/T/pip-req-build-nw5n1l3q\r\n",
      "Requirement already satisfied (use --upgrade to upgrade): covid19-inference==0.1.6 from git+https://github.com/Priesemann-Group/covid19_inference.git in /Users/paul/miniconda/lib/python3.7/site-packages\r\n",
      "Requirement already satisfied: pymc3 in /Users/paul/miniconda/lib/python3.7/site-packages (from covid19-inference==0.1.6) (3.8)\r\n",
      "Requirement already satisfied: matplotlib in /Users/paul/miniconda/lib/python3.7/site-packages (from covid19-inference==0.1.6) (3.1.3)\r\n",
      "Requirement already satisfied: numpy in /Users/paul/miniconda/lib/python3.7/site-packages (from covid19-inference==0.1.6) (1.18.1)\r\n",
      "Requirement already satisfied: pandas in /Users/paul/miniconda/lib/python3.7/site-packages (from covid19-inference==0.1.6) (1.0.1)\r\n",
      "Requirement already satisfied: theano in /Users/paul/miniconda/lib/python3.7/site-packages (from covid19-inference==0.1.6) (1.0.4)\r\n",
      "Requirement already satisfied: arviz>=0.4.1 in /Users/paul/miniconda/lib/python3.7/site-packages (from pymc3->covid19-inference==0.1.6) (0.6.1)\r\n",
      "Requirement already satisfied: h5py>=2.7.0 in /Users/paul/miniconda/lib/python3.7/site-packages (from pymc3->covid19-inference==0.1.6) (2.10.0)\r\n",
      "Requirement already satisfied: patsy>=0.4.0 in /Users/paul/miniconda/lib/python3.7/site-packages (from pymc3->covid19-inference==0.1.6) (0.5.1)\r\n",
      "Requirement already satisfied: scipy>=0.18.1 in /Users/paul/miniconda/lib/python3.7/site-packages (from pymc3->covid19-inference==0.1.6) (1.4.1)\r\n",
      "Requirement already satisfied: tqdm>=4.8.4 in /Users/paul/miniconda/lib/python3.7/site-packages (from pymc3->covid19-inference==0.1.6) (4.42.1)\r\n",
      "Requirement already satisfied: kiwisolver>=1.0.1 in /Users/paul/miniconda/lib/python3.7/site-packages (from matplotlib->covid19-inference==0.1.6) (1.1.0)\r\n",
      "Requirement already satisfied: cycler>=0.10 in /Users/paul/miniconda/lib/python3.7/site-packages (from matplotlib->covid19-inference==0.1.6) (0.10.0)\r\n",
      "Requirement already satisfied: pyparsing!=2.0.4,!=2.1.2,!=2.1.6,>=2.0.1 in /Users/paul/miniconda/lib/python3.7/site-packages (from matplotlib->covid19-inference==0.1.6) (2.4.6)\r\n",
      "Requirement already satisfied: python-dateutil>=2.1 in /Users/paul/miniconda/lib/python3.7/site-packages (from matplotlib->covid19-inference==0.1.6) (2.8.1)\r\n",
      "Requirement already satisfied: pytz>=2017.2 in /Users/paul/miniconda/lib/python3.7/site-packages (from pandas->covid19-inference==0.1.6) (2019.3)\r\n",
      "Requirement already satisfied: six>=1.9.0 in /Users/paul/miniconda/lib/python3.7/site-packages (from theano->covid19-inference==0.1.6) (1.14.0)\r\n",
      "Requirement already satisfied: packaging in /Users/paul/miniconda/lib/python3.7/site-packages (from arviz>=0.4.1->pymc3->covid19-inference==0.1.6) (20.1)\r\n",
      "Requirement already satisfied: netcdf4 in /Users/paul/miniconda/lib/python3.7/site-packages (from arviz>=0.4.1->pymc3->covid19-inference==0.1.6) (1.5.3)\r\n",
      "Requirement already satisfied: xarray>=0.11 in /Users/paul/miniconda/lib/python3.7/site-packages (from arviz>=0.4.1->pymc3->covid19-inference==0.1.6) (0.15.1)\r\n",
      "Requirement already satisfied: setuptools in /Users/paul/miniconda/lib/python3.7/site-packages (from kiwisolver>=1.0.1->matplotlib->covid19-inference==0.1.6) (46.0.0.post20200309)\r\n",
      "Requirement already satisfied: cftime in /Users/paul/miniconda/lib/python3.7/site-packages (from netcdf4->arviz>=0.4.1->pymc3->covid19-inference==0.1.6) (1.1.1.1)\r\n",
      "Building wheels for collected packages: covid19-inference\r\n",
      "  Building wheel for covid19-inference (setup.py) ... \u001b[?25l-\b \b\\\b \bdone\r\n",
      "\u001b[?25h  Created wheel for covid19-inference: filename=covid19_inference-0.1.6-py3-none-any.whl size=69320 sha256=504032a3224cbf6775ab6b9007145dcbcf98df79acfefbeaf9a90093a76c9930\r\n",
      "  Stored in directory: /private/var/folders/l0/hxkbr6jx32d1b49pzb9fvsz00000gn/T/pip-ephem-wheel-cache-pfu7d1s0/wheels/49/b1/39/e7c95d0fd9fc85ca2618197f9099261dc2ec4099c681f9a8a1\r\n",
      "Successfully built covid19-inference\r\n"
     ]
    }
   ],
   "source": [
    "!pip install git+https://github.com/Priesemann-Group/covid19_inference.git"
   ]
  },
  {
   "cell_type": "markdown",
   "metadata": {},
   "source": [
    "\n",
    "<h1>Example for one region (bundesland)</h1>\n",
    "\n",
    "  The first thing we need to do is import some essential stuff. Theses have to be installed and are prerequisites.\n"
   ]
  },
  {
   "cell_type": "code",
   "execution_count": 2,
   "metadata": {},
   "outputs": [],
   "source": [
    "import datetime\n",
    "import time as time_module\n",
    "import sys\n",
    "import os "
   ]
  },
  {
   "cell_type": "code",
   "execution_count": 3,
   "metadata": {},
   "outputs": [],
   "source": [
    "import pandas as pd\n",
    "import numpy as np\n",
    "import matplotlib.pyplot as plt\n",
    "import matplotlib as mpl\n",
    "import scipy.stats\n",
    "import theano\n",
    "import matplotlib\n",
    "import pymc3 as pm\n",
    "import theano.tensor as tt"
   ]
  },
  {
   "cell_type": "code",
   "execution_count": 4,
   "metadata": {},
   "outputs": [],
   "source": [
    "# Now to the fun stuff, we import our module!\n",
    "try: \n",
    "    import covid19_inference as cov19\n",
    "except ModuleNotFoundError:\n",
    "    sys.path.append('..')\n",
    "    import covid19_inference as cov19"
   ]
  },
  {
   "cell_type": "code",
   "execution_count": 5,
   "metadata": {},
   "outputs": [],
   "source": [
    "# ## Data retrieval\n",
    "# The next thing we want to do is load a dataset from somewhere.\n",
    "# There are multiple download sources which can be found [here](https://covid19-inference.readthedocs.io/en/latest/doc/data_retrieval.html).\n",
    "# In this example we will use the RKI dataset."
   ]
  },
  {
   "cell_type": "code",
   "execution_count": 6,
   "metadata": {},
   "outputs": [
    {
     "name": "stderr",
     "output_type": "stream",
     "text": [
      "INFO     [covid19_inference.data_retrieval.retrieval] Successfully loaded data from local\n"
     ]
    }
   ],
   "source": [
    "rki = cov19.data_retrieval.RKI() #It is important to download the dataset!\n",
    "rki.download_all_available_data(); #One could also parse True to the constructor of the class to force an auto download"
   ]
  },
  {
   "cell_type": "code",
   "execution_count": 7,
   "metadata": {},
   "outputs": [],
   "source": [
    "# We can now access this downloaded data by the attribute\n",
    "# ```\n",
    "# rki.data\n",
    "# ```\n",
    "# but normally one would use the build in filter methods,\n",
    "# these can be found [here](https://covid19-inference.readthedocs.io/en/latest/doc/data_retrieval.html#covid19_inference.data_retrieval.JHU.get_new).\n",
    "# \n",
    "# Next we retrieve the filtered data from our source in this example we will get all new cases and the total (cumulative) cases for the bundesland \"Sachsen\".\n",
    "bd = datetime.datetime(2020,3,10) # For the date filter\n",
    "ed = datetime.datetime.now()"
   ]
  },
  {
   "cell_type": "code",
   "execution_count": 8,
   "metadata": {},
   "outputs": [],
   "source": [
    "total_cases_obs = rki.get_total(value=\"confirmed\",bundesland=\"Sachsen\",data_begin=bd,data_end=ed)\n",
    "new_cases_obs = rki.get_new(value=\"confirmed\",bundesland=\"Sachsen\",data_begin=bd,data_end=ed)"
   ]
  },
  {
   "cell_type": "code",
   "execution_count": 9,
   "metadata": {},
   "outputs": [],
   "source": [
    "# ## Create the model</h2>\n",
    "# First we need to set the priors for the change points and other configs.\n",
    "diff_data_sim = 16 # should be significantly larger than the expected delay, in \n",
    "                   # order to always fit the same number of data points.\n",
    "num_days_forecast = 10"
   ]
  },
  {
   "cell_type": "code",
   "execution_count": 10,
   "metadata": {},
   "outputs": [],
   "source": [
    "# We set the prior changepoints here\n",
    "prior_date_mild_dist_begin =  datetime.datetime(2020,3,9)\n",
    "prior_date_strong_dist_begin =  datetime.datetime(2020,3,16)\n",
    "prior_date_contact_ban_begin =  datetime.datetime(2020,3,23)"
   ]
  },
  {
   "cell_type": "code",
   "execution_count": 11,
   "metadata": {},
   "outputs": [],
   "source": [
    "change_points = [dict(pr_mean_date_transient = prior_date_mild_dist_begin,\n",
    "                      pr_sigma_date_transient = 3,\n",
    "                      pr_median_lambda = 0.2,\n",
    "                      pr_sigma_lambda = 1),\n",
    "                 dict(pr_mean_date_transient = prior_date_strong_dist_begin,\n",
    "                      pr_sigma_date_transient = 1.5,\n",
    "                      pr_median_lambda = 1/8,\n",
    "                      pr_sigma_lambda = 1),\n",
    "                 dict(pr_mean_date_transient = prior_date_contact_ban_begin,\n",
    "                      pr_sigma_date_transient = 1.5,\n",
    "                      pr_median_lambda = 1/8/2,\n",
    "                      pr_sigma_lambda = 1)]"
   ]
  },
  {
   "cell_type": "code",
   "execution_count": 12,
   "metadata": {},
   "outputs": [],
   "source": [
    "# Next, we create the model! There are default values for most of the function arguments,\n",
    "# but we will try to explicitly set all kwargs for the sake of this example.\n",
    "params_model = dict(new_cases_obs = new_cases_obs[:],\n",
    "                    data_begin = bd,\n",
    "                    fcast_len = num_days_forecast,\n",
    "                    diff_data_sim = diff_data_sim,\n",
    "                    N_population = 83e6) \n",
    "pr_median_delay = 10"
   ]
  },
  {
   "cell_type": "code",
   "execution_count": 13,
   "metadata": {},
   "outputs": [
    {
     "ename": "TypeError",
     "evalue": "lambda_t_with_sigmoids() got an unexpected keyword argument 'name_lambda_t'",
     "output_type": "error",
     "traceback": [
      "\u001b[0;31m---------------------------------------------------------------------------\u001b[0m",
      "\u001b[0;31mTypeError\u001b[0m                                 Traceback (most recent call last)",
      "\u001b[0;32m<ipython-input-13-fba58fe58ba4>\u001b[0m in \u001b[0;36m<module>\u001b[0;34m\u001b[0m\n\u001b[1;32m      6\u001b[0m         \u001b[0mpr_sigma_lambda_0\u001b[0m    \u001b[0;34m=\u001b[0m \u001b[0;36m0.5\u001b[0m\u001b[0;34m,\u001b[0m\u001b[0;34m\u001b[0m\u001b[0;34m\u001b[0m\u001b[0m\n\u001b[1;32m      7\u001b[0m         \u001b[0mchange_points_list\u001b[0m   \u001b[0;34m=\u001b[0m \u001b[0mchange_points\u001b[0m\u001b[0;34m,\u001b[0m \u001b[0;31m# The change point priors we constructed earlier\u001b[0m\u001b[0;34m\u001b[0m\u001b[0;34m\u001b[0m\u001b[0m\n\u001b[0;32m----> 8\u001b[0;31m         \u001b[0mname_lambda_t\u001b[0m        \u001b[0;34m=\u001b[0m \u001b[0;34m\"lambda_t\"\u001b[0m \u001b[0;31m#Name for the variable in the trace (see later)\u001b[0m\u001b[0;34m\u001b[0m\u001b[0;34m\u001b[0m\u001b[0m\n\u001b[0m\u001b[1;32m      9\u001b[0m     )\n\u001b[1;32m     10\u001b[0m \u001b[0;34m\u001b[0m\u001b[0m\n",
      "\u001b[0;31mTypeError\u001b[0m: lambda_t_with_sigmoids() got an unexpected keyword argument 'name_lambda_t'"
     ]
    }
   ],
   "source": [
    "# The model is specified in a context. Each function in this context has access to the model parameters set\n",
    "with cov19.model.Cov19Model(**params_model) as this_model:\n",
    "    # Create the an array of the time dependent infection rate lambda\n",
    "    lambda_t_log = cov19.model.lambda_t_with_sigmoids(\n",
    "        pr_median_lambda_0   = 0.4,\n",
    "        pr_sigma_lambda_0    = 0.5,\n",
    "        change_points_list   = change_points, # The change point priors we constructed earlier\n",
    "        name_lambda_t        = \"lambda_t\" #Name for the variable in the trace (see later)\n",
    "    )\n",
    "    \n",
    "    # set prior distribution for the recovery rate\n",
    "    mu = pm.Lognormal(\n",
    "        name  = \"mu\",\n",
    "        mu    = np.log(1/8),\n",
    "        sigma = 0.2\n",
    "    )\n",
    "    \n",
    "    \n",
    "    # This builds a decorrelated prior for I_begin for faster inference. \n",
    "    # It is not necessary to use it, one can simply remove it and use the default argument \n",
    "    # for pr_I_begin in cov19.SIR\n",
    "    prior_I = cov19.model.uncorrelated_prior_I(\n",
    "        lambda_t_log           = lambda_t_log,\n",
    "        mu                     = mu,\n",
    "        pr_median_delay        = pr_median_delay,\n",
    "        name_I_begin           = \"I_begin\",\n",
    "        name_I_begin_ratio_log = \"I_begin_ratio_log\",\n",
    "        pr_sigma_I_begin       = 2,\n",
    "        n_data_points_used     = 5\n",
    "    )\n",
    "    \n",
    "    # Use lambda_t_log and mu to run the SIR model\n",
    "    new_I_t = cov19.model.SIR(\n",
    "        lambda_t_log = lambda_t_log,\n",
    "        mu           = mu,\n",
    "        name_new_I_t = \"new_I_t\",\n",
    "        name_I_t     = \"I_t\",\n",
    "        name_I_begin = \"I_begin\",\n",
    "        pr_I_begin   = prior_I\n",
    "    )\n",
    "    \n",
    "    # Delay the cases by a lognormal reporting delay\n",
    "    new_cases_inferred_raw = cov19.model.delay_cases(\n",
    "        cases              = new_I_t,\n",
    "        name_delay         = \"delay\",\n",
    "        name_delayed_cases = \"delayed_cases\",\n",
    "        name_width         = \"delay-width\",\n",
    "        pr_mean_of_median  = pr_median_delay,\n",
    "        pr_sigma_of_median = 0.2,\n",
    "        pr_median_of_width = 0.3\n",
    "    )\n",
    "    \n",
    "    # Modulate the inferred cases by a abs(sin(x)) function, to account for weekend effects\n",
    "    new_cases_inferred = cov19.model.week_modulation(\n",
    "        new_cases_raw           = new_cases_inferred_raw,\n",
    "        name_weekend_factor     = \"weekend_factor\",\n",
    "        name_offset_modulation  = \"offset_modulation\",\n",
    "        week_modulation_type    = \"abs_sine\",\n",
    "        pr_mean_weekend_factor  = 0.3,\n",
    "        pr_sigma_weekend_factor = 0.5,\n",
    "        week_end_days           = (6, 7)\n",
    "    )\n",
    "    \n",
    "    # Define the likelihood, uses the new_cases_obs set as model parameter\n",
    "    cov19.model.student_t_likelihood(new_cases_inferred)"
   ]
  },
  {
   "cell_type": "code",
   "execution_count": 14,
   "metadata": {},
   "outputs": [],
   "source": [
    "# ## MCMC sampling"
   ]
  },
  {
   "cell_type": "code",
   "execution_count": 15,
   "metadata": {},
   "outputs": [
    {
     "ename": "ValueError",
     "evalue": "The model does not contain any free variables.",
     "output_type": "error",
     "traceback": [
      "\u001b[0;31m---------------------------------------------------------------------------\u001b[0m",
      "\u001b[0;31mValueError\u001b[0m                                Traceback (most recent call last)",
      "\u001b[0;32m<ipython-input-15-40eb3a436eac>\u001b[0m in \u001b[0;36m<module>\u001b[0;34m\u001b[0m\n\u001b[0;32m----> 1\u001b[0;31m \u001b[0mtrace\u001b[0m \u001b[0;34m=\u001b[0m \u001b[0mpm\u001b[0m\u001b[0;34m.\u001b[0m\u001b[0msample\u001b[0m\u001b[0;34m(\u001b[0m\u001b[0mmodel\u001b[0m\u001b[0;34m=\u001b[0m\u001b[0mthis_model\u001b[0m\u001b[0;34m,\u001b[0m \u001b[0mtune\u001b[0m\u001b[0;34m=\u001b[0m\u001b[0;36m500\u001b[0m\u001b[0;34m,\u001b[0m \u001b[0mdraws\u001b[0m\u001b[0;34m=\u001b[0m\u001b[0;36m1000\u001b[0m\u001b[0;34m,\u001b[0m \u001b[0minit\u001b[0m\u001b[0;34m=\u001b[0m\u001b[0;34m'advi+adapt_diag'\u001b[0m\u001b[0;34m)\u001b[0m\u001b[0;34m\u001b[0m\u001b[0;34m\u001b[0m\u001b[0m\n\u001b[0m",
      "\u001b[0;32m~/miniconda/lib/python3.7/site-packages/pymc3/sampling.py\u001b[0m in \u001b[0;36msample\u001b[0;34m(draws, step, init, n_init, start, trace, chain_idx, chains, cores, tune, progressbar, model, random_seed, discard_tuned_samples, compute_convergence_checks, **kwargs)\u001b[0m\n\u001b[1;32m    407\u001b[0m \u001b[0;34m\u001b[0m\u001b[0m\n\u001b[1;32m    408\u001b[0m     \u001b[0;32mif\u001b[0m \u001b[0mmodel\u001b[0m\u001b[0;34m.\u001b[0m\u001b[0mndim\u001b[0m \u001b[0;34m==\u001b[0m \u001b[0;36m0\u001b[0m\u001b[0;34m:\u001b[0m\u001b[0;34m\u001b[0m\u001b[0;34m\u001b[0m\u001b[0m\n\u001b[0;32m--> 409\u001b[0;31m         \u001b[0;32mraise\u001b[0m \u001b[0mValueError\u001b[0m\u001b[0;34m(\u001b[0m\u001b[0;34m\"The model does not contain any free variables.\"\u001b[0m\u001b[0;34m)\u001b[0m\u001b[0;34m\u001b[0m\u001b[0;34m\u001b[0m\u001b[0m\n\u001b[0m\u001b[1;32m    410\u001b[0m \u001b[0;34m\u001b[0m\u001b[0m\n\u001b[1;32m    411\u001b[0m     \u001b[0;32mif\u001b[0m \u001b[0mstep\u001b[0m \u001b[0;32mis\u001b[0m \u001b[0;32mNone\u001b[0m \u001b[0;32mand\u001b[0m \u001b[0minit\u001b[0m \u001b[0;32mis\u001b[0m \u001b[0;32mnot\u001b[0m \u001b[0;32mNone\u001b[0m \u001b[0;32mand\u001b[0m \u001b[0mall_continuous\u001b[0m\u001b[0;34m(\u001b[0m\u001b[0mmodel\u001b[0m\u001b[0;34m.\u001b[0m\u001b[0mvars\u001b[0m\u001b[0;34m)\u001b[0m\u001b[0;34m:\u001b[0m\u001b[0;34m\u001b[0m\u001b[0;34m\u001b[0m\u001b[0m\n",
      "\u001b[0;31mValueError\u001b[0m: The model does not contain any free variables."
     ]
    }
   ],
   "source": [
    "trace = pm.sample(model=this_model, tune=500, draws=1000, init='advi+adapt_diag')"
   ]
  },
  {
   "cell_type": "code",
   "execution_count": 16,
   "metadata": {},
   "outputs": [],
   "source": [
    "# ## Plotting\n",
    "# Plotting tools are rudimentary right now. But one can always write custom plotting function \n",
    "# by accessing the samples stored in the trace."
   ]
  },
  {
   "cell_type": "code",
   "execution_count": 17,
   "metadata": {},
   "outputs": [
    {
     "name": "stdout",
     "output_type": "stream",
     "text": [
      "Possible varnames are :\n",
      "[]\n"
     ]
    },
    {
     "ename": "NameError",
     "evalue": "name 'trace' is not defined",
     "output_type": "error",
     "traceback": [
      "\u001b[0;31m---------------------------------------------------------------------------\u001b[0m",
      "\u001b[0;31mNameError\u001b[0m                                 Traceback (most recent call last)",
      "\u001b[0;32m<ipython-input-17-4d58cab9258c>\u001b[0m in \u001b[0;36m<module>\u001b[0;34m\u001b[0m\n\u001b[1;32m      9\u001b[0m   \u001b[0;34m[\u001b[0m\u001b[0;34m\"weekend_factor\"\u001b[0m\u001b[0;34m,\u001b[0m \u001b[0;34m\"mu\"\u001b[0m\u001b[0;34m,\u001b[0m \u001b[0;34m\"lambda_0\"\u001b[0m\u001b[0;34m,\u001b[0m \u001b[0;34m\"lambda_1\"\u001b[0m\u001b[0;34m,\u001b[0m \u001b[0;34m\"lambda_2\"\u001b[0m\u001b[0;34m,\u001b[0m \u001b[0;34m\"lambda_3\"\u001b[0m\u001b[0;34m]\u001b[0m\u001b[0;34m\u001b[0m\u001b[0;34m\u001b[0m\u001b[0m\n\u001b[1;32m     10\u001b[0m ):\n\u001b[0;32m---> 11\u001b[0;31m   \u001b[0mcov19\u001b[0m\u001b[0;34m.\u001b[0m\u001b[0mplot\u001b[0m\u001b[0;34m.\u001b[0m\u001b[0m_distribution\u001b[0m\u001b[0;34m(\u001b[0m\u001b[0mthis_model\u001b[0m\u001b[0;34m,\u001b[0m \u001b[0mtrace\u001b[0m\u001b[0;34m,\u001b[0m \u001b[0mkey\u001b[0m\u001b[0;34m,\u001b[0m \u001b[0max\u001b[0m\u001b[0;34m=\u001b[0m\u001b[0maxes\u001b[0m\u001b[0;34m[\u001b[0m\u001b[0mi\u001b[0m\u001b[0;34m,\u001b[0m \u001b[0;36m0\u001b[0m\u001b[0;34m]\u001b[0m\u001b[0;34m)\u001b[0m\u001b[0;34m\u001b[0m\u001b[0;34m\u001b[0m\u001b[0m\n\u001b[0m",
      "\u001b[0;31mNameError\u001b[0m: name 'trace' is not defined"
     ]
    },
    {
     "data": {
      "image/png": "[encoded data removed]",
      "text/plain": [
       "<Figure size 432x460.8 with 18 Axes>"
      ]
     },
     "metadata": {
      "needs_background": "light"
     },
     "output_type": "display_data"
    }
   ],
   "source": [
    "# ### Distributions\n",
    "fig, axes = plt.subplots(6, 3, figsize=(6, 6.4))\n",
    "varnames = cov19.plotting.get_all_free_RVs_names(this_model)\n",
    "print(\"Possible varnames are :\")\n",
    "print(varnames)\n",
    " \n",
    "for i, key in enumerate(\n",
    "  # left column\n",
    "  [\"weekend_factor\", \"mu\", \"lambda_0\", \"lambda_1\", \"lambda_2\", \"lambda_3\"]\n",
    "):\n",
    "  cov19.plot._distribution(this_model, trace, key, ax=axes[i, 0])"
   ]
  },
  {
   "cell_type": "code",
   "execution_count": 18,
   "metadata": {},
   "outputs": [
    {
     "ename": "NameError",
     "evalue": "name 'trace' is not defined",
     "output_type": "error",
     "traceback": [
      "\u001b[0;31m---------------------------------------------------------------------------\u001b[0m",
      "\u001b[0;31mNameError\u001b[0m                                 Traceback (most recent call last)",
      "\u001b[0;32m<ipython-input-18-333e5163cc4f>\u001b[0m in \u001b[0;36m<module>\u001b[0;34m\u001b[0m\n\u001b[1;32m     12\u001b[0m   ]\n\u001b[1;32m     13\u001b[0m ):\n\u001b[0;32m---> 14\u001b[0;31m   \u001b[0mcov19\u001b[0m\u001b[0;34m.\u001b[0m\u001b[0mplot\u001b[0m\u001b[0;34m.\u001b[0m\u001b[0m_distribution\u001b[0m\u001b[0;34m(\u001b[0m\u001b[0mthis_model\u001b[0m\u001b[0;34m,\u001b[0m \u001b[0mtrace\u001b[0m\u001b[0;34m,\u001b[0m \u001b[0mkey\u001b[0m\u001b[0;34m,\u001b[0m \u001b[0max\u001b[0m\u001b[0;34m=\u001b[0m\u001b[0maxes\u001b[0m\u001b[0;34m[\u001b[0m\u001b[0mi\u001b[0m\u001b[0;34m,\u001b[0m \u001b[0;36m1\u001b[0m\u001b[0;34m]\u001b[0m\u001b[0;34m)\u001b[0m\u001b[0;34m\u001b[0m\u001b[0;34m\u001b[0m\u001b[0m\n\u001b[0m",
      "\u001b[0;31mNameError\u001b[0m: name 'trace' is not defined"
     ]
    }
   ],
   "source": [
    "for i, key in enumerate(\n",
    "  # mid column\n",
    "  [\n",
    "    \"offset_modulation\",\n",
    "    \"sigma_obs\",\n",
    "    \"I_begin\",\n",
    "    # beware, these guys were the begin of the transient in the paper,\n",
    "    # now they are the center points (shifted by transient_len_i)\n",
    "    \"transient_day_1\",\n",
    "    \"transient_day_2\",\n",
    "    \"transient_day_3\",\n",
    "  ]\n",
    "):\n",
    "  cov19.plot._distribution(this_model, trace, key, ax=axes[i, 1])"
   ]
  },
  {
   "cell_type": "code",
   "execution_count": 19,
   "metadata": {},
   "outputs": [
    {
     "ename": "NameError",
     "evalue": "name 'trace' is not defined",
     "output_type": "error",
     "traceback": [
      "\u001b[0;31m---------------------------------------------------------------------------\u001b[0m",
      "\u001b[0;31mNameError\u001b[0m                                 Traceback (most recent call last)",
      "\u001b[0;32m<ipython-input-19-7892715b849e>\u001b[0m in \u001b[0;36m<module>\u001b[0;34m\u001b[0m\n\u001b[1;32m      3\u001b[0m   \u001b[0;34m[\u001b[0m\u001b[0;34m\"delay\"\u001b[0m\u001b[0;34m,\u001b[0m \u001b[0;34m\"transient_len_1\"\u001b[0m\u001b[0;34m,\u001b[0m \u001b[0;34m\"transient_len_2\"\u001b[0m\u001b[0;34m,\u001b[0m \u001b[0;34m\"transient_len_3\"\u001b[0m\u001b[0;34m,\u001b[0m\u001b[0;34m]\u001b[0m\u001b[0;34m\u001b[0m\u001b[0;34m\u001b[0m\u001b[0m\n\u001b[1;32m      4\u001b[0m ):\n\u001b[0;32m----> 5\u001b[0;31m   \u001b[0mcov19\u001b[0m\u001b[0;34m.\u001b[0m\u001b[0mplot\u001b[0m\u001b[0;34m.\u001b[0m\u001b[0m_distribution\u001b[0m\u001b[0;34m(\u001b[0m\u001b[0mthis_model\u001b[0m\u001b[0;34m,\u001b[0m \u001b[0mtrace\u001b[0m\u001b[0;34m,\u001b[0m \u001b[0mkey\u001b[0m\u001b[0;34m,\u001b[0m \u001b[0max\u001b[0m\u001b[0;34m=\u001b[0m\u001b[0maxes\u001b[0m\u001b[0;34m[\u001b[0m\u001b[0mi\u001b[0m \u001b[0;34m+\u001b[0m \u001b[0;36m2\u001b[0m\u001b[0;34m,\u001b[0m \u001b[0;36m2\u001b[0m\u001b[0;34m]\u001b[0m\u001b[0;34m)\u001b[0m\u001b[0;34m\u001b[0m\u001b[0;34m\u001b[0m\u001b[0m\n\u001b[0m\u001b[1;32m      6\u001b[0m \u001b[0;34m\u001b[0m\u001b[0m\n\u001b[1;32m      7\u001b[0m \u001b[0mfig\u001b[0m\u001b[0;34m.\u001b[0m\u001b[0mtight_layout\u001b[0m\u001b[0;34m(\u001b[0m\u001b[0;34m)\u001b[0m\u001b[0;34m\u001b[0m\u001b[0;34m\u001b[0m\u001b[0m\n",
      "\u001b[0;31mNameError\u001b[0m: name 'trace' is not defined"
     ]
    }
   ],
   "source": [
    "for i, key in enumerate(\n",
    "  # right column\n",
    "  [\"delay\", \"transient_len_1\", \"transient_len_2\", \"transient_len_3\",]\n",
    "):\n",
    "  cov19.plot._distribution(this_model, trace, key, ax=axes[i + 2, 2])\n",
    "    \n",
    "fig.tight_layout()"
   ]
  },
  {
   "cell_type": "code",
   "execution_count": 20,
   "metadata": {},
   "outputs": [
    {
     "ename": "NameError",
     "evalue": "name 'model' is not defined",
     "output_type": "error",
     "traceback": [
      "\u001b[0;31m---------------------------------------------------------------------------\u001b[0m",
      "\u001b[0;31mNameError\u001b[0m                                 Traceback (most recent call last)",
      "\u001b[0;32m<ipython-input-20-0354090610c9>\u001b[0m in \u001b[0;36m<module>\u001b[0;34m\u001b[0m\n\u001b[1;32m      1\u001b[0m \u001b[0;31m# ### Timeseries\u001b[0m\u001b[0;34m\u001b[0m\u001b[0;34m\u001b[0m\u001b[0;34m\u001b[0m\u001b[0m\n\u001b[1;32m      2\u001b[0m \u001b[0;31m# timeseries overview, for now needs an offset variable to get cumulative cases\u001b[0m\u001b[0;34m\u001b[0m\u001b[0;34m\u001b[0m\u001b[0;34m\u001b[0m\u001b[0m\n\u001b[0;32m----> 3\u001b[0;31m \u001b[0mfig\u001b[0m\u001b[0;34m,\u001b[0m \u001b[0maxes\u001b[0m \u001b[0;34m=\u001b[0m \u001b[0mcov19\u001b[0m\u001b[0;34m.\u001b[0m\u001b[0mplot\u001b[0m\u001b[0;34m.\u001b[0m\u001b[0mtimeseries_overview\u001b[0m\u001b[0;34m(\u001b[0m\u001b[0mmodel\u001b[0m\u001b[0;34m,\u001b[0m \u001b[0mtrace\u001b[0m\u001b[0;34m,\u001b[0m \u001b[0moffset\u001b[0m\u001b[0;34m=\u001b[0m\u001b[0mtotal_cases\u001b[0m\u001b[0;34m[\u001b[0m\u001b[0;36m0\u001b[0m\u001b[0;34m]\u001b[0m\u001b[0;34m)\u001b[0m\u001b[0;34m\u001b[0m\u001b[0;34m\u001b[0m\u001b[0m\n\u001b[0m",
      "\u001b[0;31mNameError\u001b[0m: name 'model' is not defined"
     ]
    }
   ],
   "source": [
    "# ### Timeseries\n",
    "# timeseries overview, for now needs an offset variable to get cumulative cases\n",
    "fig, axes = cov19.plot.timeseries_overview(model, trace, offset=total_cases[0])"
   ]
  }
 ],
 "metadata": {
  "kernelspec": {
   "display_name": "Python 3",
   "language": "python",
   "name": "python3"
  },
  "language_info": {
   "codemirror_mode": {
    "name": "ipython",
    "version": 3
   },
   "file_extension": ".py",
   "mimetype": "text/x-python",
   "name": "python",
   "nbconvert_exporter": "python",
   "pygments_lexer": "ipython3",
   "version": "3.7.6"
  }
 },
 "nbformat": 4,
 "nbformat_minor": 2
}
